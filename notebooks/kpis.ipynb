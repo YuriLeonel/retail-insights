{
 "cells": [
  {
   "cell_type": "markdown",
   "metadata": {},
   "source": [
    "# Retail Insights - Key Performance Indicators (KPIs)\n",
    "\n",
    "This notebook demonstrates basic analytics capabilities by connecting to the PostgreSQL database and calculating key retail metrics.\n",
    "\n",
    "## Overview\n",
    "- **Total Sales**: Sum of all order items (quantity * unit_price)\n",
    "- **Top 10 Products**: Best-selling products by total sales\n",
    "- **Sales by Country**: Revenue breakdown by geographic location\n",
    "- **Order Analytics**: Order volume and customer insights\n"
   ]
  },
  {
   "cell_type": "code",
   "execution_count": 1,
   "metadata": {},
   "outputs": [
    {
     "name": "stdout",
     "output_type": "stream",
     "text": [
      "Libraries imported successfully!\n"
     ]
    }
   ],
   "source": [
    "# Import required libraries\n",
    "import pandas as pd\n",
    "import numpy as np\n",
    "import matplotlib.pyplot as plt\n",
    "import seaborn as sns\n",
    "import plotly.express as px\n",
    "import plotly.graph_objects as go\n",
    "from plotly.subplots import make_subplots\n",
    "from sqlalchemy import create_engine, text\n",
    "import os\n",
    "from dotenv import load_dotenv\n",
    "\n",
    "# Load environment variables\n",
    "load_dotenv()\n",
    "\n",
    "# Set up plotting style\n",
    "plt.style.use('seaborn-v0_8')\n",
    "sns.set_palette(\"husl\")\n",
    "\n",
    "print(\"Libraries imported successfully!\")\n"
   ]
  },
  {
   "cell_type": "code",
   "execution_count": 2,
   "metadata": {},
   "outputs": [
    {
     "name": "stdout",
     "output_type": "stream",
     "text": [
      "Connected to database: retail_insights_db\n",
      "Host: localhost\n"
     ]
    }
   ],
   "source": [
    "# Database connection setup\n",
    "DB_USER = os.getenv(\"DB_USER\", \"retail_user\")\n",
    "DB_PASSWORD = os.getenv(\"DB_PASSWORD\", \"retail_pass\")\n",
    "DB_HOST = os.getenv(\"DB_HOST\", \"localhost\")\n",
    "DB_NAME = os.getenv(\"DB_NAME\", \"retail_db\")\n",
    "\n",
    "DATABASE_URL = f\"postgresql://{DB_USER}:{DB_PASSWORD}@{DB_HOST}/{DB_NAME}\"\n",
    "\n",
    "# Create database engine\n",
    "engine = create_engine(DATABASE_URL)\n",
    "\n",
    "print(f\"Connected to database: {DB_NAME}\")\n",
    "print(f\"Host: {DB_HOST}\")\n"
   ]
  },
  {
   "cell_type": "markdown",
   "metadata": {},
   "source": [
    "## Data Loading\n",
    "\n",
    "Load data from all tables to understand the current dataset structure.\n"
   ]
  },
  {
   "cell_type": "code",
   "execution_count": 3,
   "metadata": {},
   "outputs": [
    {
     "name": "stdout",
     "output_type": "stream",
     "text": [
      "Dataset Overview:\n",
      "Customers: 0 records\n",
      "Products: 0 records\n",
      "Orders: 0 records\n",
      "Order Items: 0 records\n"
     ]
    }
   ],
   "source": [
    "# Load data from all tables\n",
    "customers_df = pd.read_sql(\"SELECT * FROM customers\", engine)\n",
    "products_df = pd.read_sql(\"SELECT * FROM products\", engine)\n",
    "orders_df = pd.read_sql(\"SELECT * FROM orders\", engine)\n",
    "order_items_df = pd.read_sql(\"SELECT * FROM order_items\", engine)\n",
    "\n",
    "print(\"Dataset Overview:\")\n",
    "print(f\"Customers: {len(customers_df):,} records\")\n",
    "print(f\"Products: {len(products_df):,} records\")\n",
    "print(f\"Orders: {len(orders_df):,} records\")\n",
    "print(f\"Order Items: {len(order_items_df):,} records\")\n"
   ]
  },
  {
   "cell_type": "code",
   "execution_count": 4,
   "metadata": {},
   "outputs": [
    {
     "name": "stdout",
     "output_type": "stream",
     "text": [
      "=== CUSTOMERS SAMPLE ===\n"
     ]
    },
    {
     "data": {
      "text/html": [
       "<div>\n",
       "<style scoped>\n",
       "    .dataframe tbody tr th:only-of-type {\n",
       "        vertical-align: middle;\n",
       "    }\n",
       "\n",
       "    .dataframe tbody tr th {\n",
       "        vertical-align: top;\n",
       "    }\n",
       "\n",
       "    .dataframe thead th {\n",
       "        text-align: right;\n",
       "    }\n",
       "</style>\n",
       "<table border=\"1\" class=\"dataframe\">\n",
       "  <thead>\n",
       "    <tr style=\"text-align: right;\">\n",
       "      <th></th>\n",
       "      <th>customer_id</th>\n",
       "      <th>customer_name</th>\n",
       "      <th>country</th>\n",
       "    </tr>\n",
       "  </thead>\n",
       "  <tbody>\n",
       "  </tbody>\n",
       "</table>\n",
       "</div>"
      ],
      "text/plain": [
       "Empty DataFrame\n",
       "Columns: [customer_id, customer_name, country]\n",
       "Index: []"
      ]
     },
     "metadata": {},
     "output_type": "display_data"
    },
    {
     "name": "stdout",
     "output_type": "stream",
     "text": [
      "\n",
      "=== PRODUCTS SAMPLE ===\n"
     ]
    },
    {
     "data": {
      "text/html": [
       "<div>\n",
       "<style scoped>\n",
       "    .dataframe tbody tr th:only-of-type {\n",
       "        vertical-align: middle;\n",
       "    }\n",
       "\n",
       "    .dataframe tbody tr th {\n",
       "        vertical-align: top;\n",
       "    }\n",
       "\n",
       "    .dataframe thead th {\n",
       "        text-align: right;\n",
       "    }\n",
       "</style>\n",
       "<table border=\"1\" class=\"dataframe\">\n",
       "  <thead>\n",
       "    <tr style=\"text-align: right;\">\n",
       "      <th></th>\n",
       "      <th>product_id</th>\n",
       "      <th>stock_code</th>\n",
       "      <th>description</th>\n",
       "    </tr>\n",
       "  </thead>\n",
       "  <tbody>\n",
       "  </tbody>\n",
       "</table>\n",
       "</div>"
      ],
      "text/plain": [
       "Empty DataFrame\n",
       "Columns: [product_id, stock_code, description]\n",
       "Index: []"
      ]
     },
     "metadata": {},
     "output_type": "display_data"
    },
    {
     "name": "stdout",
     "output_type": "stream",
     "text": [
      "\n",
      "=== ORDERS SAMPLE ===\n"
     ]
    },
    {
     "data": {
      "text/html": [
       "<div>\n",
       "<style scoped>\n",
       "    .dataframe tbody tr th:only-of-type {\n",
       "        vertical-align: middle;\n",
       "    }\n",
       "\n",
       "    .dataframe tbody tr th {\n",
       "        vertical-align: top;\n",
       "    }\n",
       "\n",
       "    .dataframe thead th {\n",
       "        text-align: right;\n",
       "    }\n",
       "</style>\n",
       "<table border=\"1\" class=\"dataframe\">\n",
       "  <thead>\n",
       "    <tr style=\"text-align: right;\">\n",
       "      <th></th>\n",
       "      <th>order_id</th>\n",
       "      <th>invoice_no</th>\n",
       "      <th>customer_id</th>\n",
       "      <th>invoice_date</th>\n",
       "      <th>country</th>\n",
       "    </tr>\n",
       "  </thead>\n",
       "  <tbody>\n",
       "  </tbody>\n",
       "</table>\n",
       "</div>"
      ],
      "text/plain": [
       "Empty DataFrame\n",
       "Columns: [order_id, invoice_no, customer_id, invoice_date, country]\n",
       "Index: []"
      ]
     },
     "metadata": {},
     "output_type": "display_data"
    },
    {
     "name": "stdout",
     "output_type": "stream",
     "text": [
      "\n",
      "=== ORDER ITEMS SAMPLE ===\n"
     ]
    },
    {
     "data": {
      "text/html": [
       "<div>\n",
       "<style scoped>\n",
       "    .dataframe tbody tr th:only-of-type {\n",
       "        vertical-align: middle;\n",
       "    }\n",
       "\n",
       "    .dataframe tbody tr th {\n",
       "        vertical-align: top;\n",
       "    }\n",
       "\n",
       "    .dataframe thead th {\n",
       "        text-align: right;\n",
       "    }\n",
       "</style>\n",
       "<table border=\"1\" class=\"dataframe\">\n",
       "  <thead>\n",
       "    <tr style=\"text-align: right;\">\n",
       "      <th></th>\n",
       "      <th>order_item_id</th>\n",
       "      <th>order_id</th>\n",
       "      <th>product_id</th>\n",
       "      <th>quantity</th>\n",
       "      <th>unit_price</th>\n",
       "    </tr>\n",
       "  </thead>\n",
       "  <tbody>\n",
       "  </tbody>\n",
       "</table>\n",
       "</div>"
      ],
      "text/plain": [
       "Empty DataFrame\n",
       "Columns: [order_item_id, order_id, product_id, quantity, unit_price]\n",
       "Index: []"
      ]
     },
     "metadata": {},
     "output_type": "display_data"
    }
   ],
   "source": [
    "# Display sample data from each table\n",
    "print(\"=== CUSTOMERS SAMPLE ===\")\n",
    "display(customers_df.head())\n",
    "\n",
    "print(\"\\n=== PRODUCTS SAMPLE ===\")\n",
    "display(products_df.head())\n",
    "\n",
    "print(\"\\n=== ORDERS SAMPLE ===\")\n",
    "display(orders_df.head())\n",
    "\n",
    "print(\"\\n=== ORDER ITEMS SAMPLE ===\")\n",
    "display(order_items_df.head())\n"
   ]
  },
  {
   "cell_type": "markdown",
   "metadata": {},
   "source": [
    "## KPI 1: Total Sales Revenue\n",
    "\n",
    "Calculate the total sales revenue by summing all order items (quantity × unit_price).\n"
   ]
  },
  {
   "cell_type": "code",
   "execution_count": 5,
   "metadata": {},
   "outputs": [
    {
     "name": "stdout",
     "output_type": "stream",
     "text": [
      "📊 SALES OVERVIEW\n",
      "💰 Total Revenue: $0.00\n",
      "📦 Total Orders: 0\n",
      "🛍️  Total Items Sold: 0\n",
      "💵 Average Item Value: $0.00\n",
      "🧾 Average Order Value: $0.00 (No orders yet)\n"
     ]
    }
   ],
   "source": [
    "# Calculate total sales\n",
    "total_sales_query = \"\"\"\n",
    "SELECT \n",
    "    SUM(quantity * unit_price) as total_sales,\n",
    "    COUNT(DISTINCT order_id) as total_orders,\n",
    "    COUNT(*) as total_items,\n",
    "    AVG(quantity * unit_price) as avg_item_value\n",
    "FROM order_items\n",
    "\"\"\"\n",
    "\n",
    "total_sales_df = pd.read_sql(total_sales_query, engine)\n",
    "\n",
    "total_revenue = total_sales_df['total_sales'].iloc[0] if not total_sales_df.empty and total_sales_df['total_sales'].iloc[0] else 0\n",
    "total_orders = total_sales_df['total_orders'].iloc[0] if not total_sales_df.empty else 0\n",
    "total_items = total_sales_df['total_items'].iloc[0] if not total_sales_df.empty else 0\n",
    "avg_item_value = total_sales_df['avg_item_value'].iloc[0] if not total_sales_df.empty and total_sales_df['avg_item_value'].iloc[0] else 0\n",
    "\n",
    "print(\"📊 SALES OVERVIEW\")\n",
    "print(f\"💰 Total Revenue: ${total_revenue:,.2f}\")\n",
    "print(f\"📦 Total Orders: {total_orders:,}\")\n",
    "print(f\"🛍️  Total Items Sold: {total_items:,}\")\n",
    "print(f\"💵 Average Item Value: ${avg_item_value:.2f}\")\n",
    "if total_orders > 0:\n",
    "    print(f\"🧾 Average Order Value: ${total_revenue/total_orders:.2f}\")\n",
    "else:\n",
    "    print(\"🧾 Average Order Value: $0.00 (No orders yet)\")\n"
   ]
  },
  {
   "cell_type": "markdown",
   "metadata": {},
   "source": [
    "## Summary\n",
    "\n",
    "This notebook provides a foundation for retail analytics. The key insights include:\n",
    "\n",
    "1. **Sales Overview**: Total revenue, orders, and average values\n",
    "2. **Product Analysis**: Best-selling products by revenue\n",
    "3. **Geographic Analysis**: Sales performance by country\n",
    "4. **Customer Insights**: Top customers and spending patterns\n",
    "\n",
    "## Next Steps\n",
    "\n",
    "Future enhancements could include:\n",
    "- Customer segmentation (RFM analysis)\n",
    "- Seasonal trend analysis\n",
    "- Predictive modeling for sales forecasting\n",
    "- Real-time dashboards\n",
    "\n",
    "**Note**: This analysis assumes you have data in your PostgreSQL database. If starting with an empty database, populate it using the API endpoints first.\n"
   ]
  },
  {
   "cell_type": "code",
   "execution_count": null,
   "metadata": {},
   "outputs": [],
   "source": []
  },
  {
   "cell_type": "code",
   "execution_count": null,
   "metadata": {},
   "outputs": [],
   "source": []
  },
  {
   "cell_type": "code",
   "execution_count": null,
   "metadata": {},
   "outputs": [],
   "source": []
  }
 ],
 "metadata": {
  "kernelspec": {
   "display_name": "Python 3 (ipykernel)",
   "language": "python",
   "name": "python3"
  },
  "language_info": {
   "codemirror_mode": {
    "name": "ipython",
    "version": 3
   },
   "file_extension": ".py",
   "mimetype": "text/x-python",
   "name": "python",
   "nbconvert_exporter": "python",
   "pygments_lexer": "ipython3",
   "version": "3.12.3"
  }
 },
 "nbformat": 4,
 "nbformat_minor": 4
}
